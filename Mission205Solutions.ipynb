{
 "cells": [
  {
   "cell_type": "markdown",
   "metadata": {},
   "source": [
    "# Introduction to the data"
   ]
  },
  {
   "cell_type": "code",
   "execution_count": 36,
   "metadata": {
    "collapsed": false
   },
   "outputs": [
    {
     "name": "stdout",
     "output_type": "stream",
     "text": [
      "15\n"
     ]
    }
   ],
   "source": [
    "import pandas as pd\n",
    "import seaborn as sns\n",
    "import matplotlib.pyplot as plt\n",
    "%matplotlib inline\n",
    "\n",
    "pixar_movies = pd.read_csv(\"PixarMovies.csv\")\n",
    "# Number of rows\n",
    "print(pixar_movies.shape[0])"
   ]
  },
  {
   "cell_type": "code",
   "execution_count": 37,
   "metadata": {
    "collapsed": false
   },
   "outputs": [
    {
     "name": "stdout",
     "output_type": "stream",
     "text": [
      "16\n"
     ]
    }
   ],
   "source": [
    "# Number of columns\n",
    "print(pixar_movies.shape[1])"
   ]
  },
  {
   "cell_type": "code",
   "execution_count": 38,
   "metadata": {
    "collapsed": false,
    "scrolled": true
   },
   "outputs": [
    {
     "data": {
      "text/html": [
       "<div style=\"max-height:1000px;max-width:1500px;overflow:auto;\">\n",
       "<table border=\"1\" class=\"dataframe\">\n",
       "  <thead>\n",
       "    <tr style=\"text-align: right;\">\n",
       "      <th></th>\n",
       "      <th>Year Released</th>\n",
       "      <th>Movie</th>\n",
       "      <th>Length</th>\n",
       "      <th>RT Score</th>\n",
       "      <th>IMDB Score</th>\n",
       "      <th>Metacritic Score</th>\n",
       "      <th>Opening Weekend</th>\n",
       "      <th>Worldwide Gross</th>\n",
       "      <th>Domestic Gross</th>\n",
       "      <th>Adjusted Domestic Gross</th>\n",
       "      <th>International Gross</th>\n",
       "      <th>Domestic %</th>\n",
       "      <th>International %</th>\n",
       "      <th>Production Budget</th>\n",
       "      <th>Oscars Nominated</th>\n",
       "      <th>Oscars Won</th>\n",
       "    </tr>\n",
       "  </thead>\n",
       "  <tbody>\n",
       "    <tr>\n",
       "      <th>0 </th>\n",
       "      <td> 1995</td>\n",
       "      <td>           Toy Story</td>\n",
       "      <td>  81</td>\n",
       "      <td> 100</td>\n",
       "      <td> 8.3</td>\n",
       "      <td> 92</td>\n",
       "      <td>  29.14</td>\n",
       "      <td>  362.0</td>\n",
       "      <td> 191.8</td>\n",
       "      <td> 356.21</td>\n",
       "      <td> 170.2</td>\n",
       "      <td> 52.98%</td>\n",
       "      <td> 47.02%</td>\n",
       "      <td>  30</td>\n",
       "      <td>  3</td>\n",
       "      <td>  0</td>\n",
       "    </tr>\n",
       "    <tr>\n",
       "      <th>1 </th>\n",
       "      <td> 1998</td>\n",
       "      <td>        A Bug's Life</td>\n",
       "      <td>  96</td>\n",
       "      <td>  92</td>\n",
       "      <td> 7.2</td>\n",
       "      <td> 77</td>\n",
       "      <td>  33.26</td>\n",
       "      <td>  363.4</td>\n",
       "      <td> 162.8</td>\n",
       "      <td> 277.18</td>\n",
       "      <td> 200.6</td>\n",
       "      <td> 44.80%</td>\n",
       "      <td> 55.20%</td>\n",
       "      <td>  45</td>\n",
       "      <td>  1</td>\n",
       "      <td>  0</td>\n",
       "    </tr>\n",
       "    <tr>\n",
       "      <th>2 </th>\n",
       "      <td> 1999</td>\n",
       "      <td>         Toy Story 2</td>\n",
       "      <td>  92</td>\n",
       "      <td> 100</td>\n",
       "      <td> 7.9</td>\n",
       "      <td> 88</td>\n",
       "      <td>  57.39</td>\n",
       "      <td>  485.0</td>\n",
       "      <td> 245.9</td>\n",
       "      <td> 388.43</td>\n",
       "      <td> 239.2</td>\n",
       "      <td> 50.70%</td>\n",
       "      <td> 49.32%</td>\n",
       "      <td>  90</td>\n",
       "      <td>  1</td>\n",
       "      <td>  0</td>\n",
       "    </tr>\n",
       "    <tr>\n",
       "      <th>3 </th>\n",
       "      <td> 2001</td>\n",
       "      <td>      Monsters, Inc.</td>\n",
       "      <td>  90</td>\n",
       "      <td>  96</td>\n",
       "      <td> 8.1</td>\n",
       "      <td> 78</td>\n",
       "      <td>  62.58</td>\n",
       "      <td>  528.8</td>\n",
       "      <td> 255.9</td>\n",
       "      <td> 366.12</td>\n",
       "      <td> 272.9</td>\n",
       "      <td> 48.39%</td>\n",
       "      <td> 51.61%</td>\n",
       "      <td> 115</td>\n",
       "      <td>  3</td>\n",
       "      <td>  1</td>\n",
       "    </tr>\n",
       "    <tr>\n",
       "      <th>4 </th>\n",
       "      <td> 2003</td>\n",
       "      <td>        Finding Nemo</td>\n",
       "      <td> 104</td>\n",
       "      <td>  99</td>\n",
       "      <td> 8.2</td>\n",
       "      <td> 90</td>\n",
       "      <td>  70.25</td>\n",
       "      <td>  895.6</td>\n",
       "      <td> 339.7</td>\n",
       "      <td> 457.46</td>\n",
       "      <td> 555.9</td>\n",
       "      <td> 37.93%</td>\n",
       "      <td> 62.07%</td>\n",
       "      <td>  94</td>\n",
       "      <td>  4</td>\n",
       "      <td>  1</td>\n",
       "    </tr>\n",
       "    <tr>\n",
       "      <th>5 </th>\n",
       "      <td> 2004</td>\n",
       "      <td>     The Incredibles</td>\n",
       "      <td> 115</td>\n",
       "      <td>  97</td>\n",
       "      <td> 8.0</td>\n",
       "      <td> 90</td>\n",
       "      <td>  70.47</td>\n",
       "      <td>  631.4</td>\n",
       "      <td> 261.4</td>\n",
       "      <td> 341.28</td>\n",
       "      <td> 370.0</td>\n",
       "      <td> 41.40%</td>\n",
       "      <td> 58.60%</td>\n",
       "      <td>  92</td>\n",
       "      <td>  4</td>\n",
       "      <td>  2</td>\n",
       "    </tr>\n",
       "    <tr>\n",
       "      <th>6 </th>\n",
       "      <td> 2006</td>\n",
       "      <td>                Cars</td>\n",
       "      <td> 116</td>\n",
       "      <td>  74</td>\n",
       "      <td> 7.2</td>\n",
       "      <td> 73</td>\n",
       "      <td>  60.12</td>\n",
       "      <td>  462.0</td>\n",
       "      <td> 244.1</td>\n",
       "      <td> 302.59</td>\n",
       "      <td> 217.9</td>\n",
       "      <td> 52.84%</td>\n",
       "      <td> 47.16%</td>\n",
       "      <td>  70</td>\n",
       "      <td>  2</td>\n",
       "      <td>  0</td>\n",
       "    </tr>\n",
       "    <tr>\n",
       "      <th>7 </th>\n",
       "      <td> 2007</td>\n",
       "      <td>         Ratatouille</td>\n",
       "      <td> 111</td>\n",
       "      <td>  96</td>\n",
       "      <td> 8.0</td>\n",
       "      <td> 96</td>\n",
       "      <td>  47.00</td>\n",
       "      <td>  623.7</td>\n",
       "      <td> 206.4</td>\n",
       "      <td> 243.65</td>\n",
       "      <td> 417.3</td>\n",
       "      <td> 33.09%</td>\n",
       "      <td> 66.91%</td>\n",
       "      <td> 150</td>\n",
       "      <td>  5</td>\n",
       "      <td>  1</td>\n",
       "    </tr>\n",
       "    <tr>\n",
       "      <th>8 </th>\n",
       "      <td> 2008</td>\n",
       "      <td>              WALL-E</td>\n",
       "      <td>  97</td>\n",
       "      <td>  96</td>\n",
       "      <td> 8.4</td>\n",
       "      <td> 94</td>\n",
       "      <td>  63.10</td>\n",
       "      <td>  521.3</td>\n",
       "      <td> 223.8</td>\n",
       "      <td> 253.11</td>\n",
       "      <td> 297.5</td>\n",
       "      <td> 42.93%</td>\n",
       "      <td> 57.07%</td>\n",
       "      <td> 180</td>\n",
       "      <td>  6</td>\n",
       "      <td>  1</td>\n",
       "    </tr>\n",
       "    <tr>\n",
       "      <th>9 </th>\n",
       "      <td> 2009</td>\n",
       "      <td>                  Up</td>\n",
       "      <td>  96</td>\n",
       "      <td>  98</td>\n",
       "      <td> 8.3</td>\n",
       "      <td> 88</td>\n",
       "      <td>  68.11</td>\n",
       "      <td>  731.3</td>\n",
       "      <td> 293.0</td>\n",
       "      <td> 318.90</td>\n",
       "      <td> 438.3</td>\n",
       "      <td> 40.07%</td>\n",
       "      <td> 59.93%</td>\n",
       "      <td> 175</td>\n",
       "      <td>  5</td>\n",
       "      <td>  2</td>\n",
       "    </tr>\n",
       "    <tr>\n",
       "      <th>10</th>\n",
       "      <td> 2010</td>\n",
       "      <td>         Toy Story 3</td>\n",
       "      <td> 103</td>\n",
       "      <td>  99</td>\n",
       "      <td> 8.4</td>\n",
       "      <td> 92</td>\n",
       "      <td> 110.31</td>\n",
       "      <td> 1063.2</td>\n",
       "      <td> 415.0</td>\n",
       "      <td> 423.88</td>\n",
       "      <td> 648.2</td>\n",
       "      <td> 39.03%</td>\n",
       "      <td> 60.97%</td>\n",
       "      <td> 200</td>\n",
       "      <td>  5</td>\n",
       "      <td>  2</td>\n",
       "    </tr>\n",
       "    <tr>\n",
       "      <th>11</th>\n",
       "      <td> 2011</td>\n",
       "      <td>              Cars 2</td>\n",
       "      <td> 113</td>\n",
       "      <td>  39</td>\n",
       "      <td> 6.3</td>\n",
       "      <td> 57</td>\n",
       "      <td> 109.00</td>\n",
       "      <td>  559.9</td>\n",
       "      <td> 191.5</td>\n",
       "      <td> 194.43</td>\n",
       "      <td> 368.4</td>\n",
       "      <td> 34.20%</td>\n",
       "      <td> 65.80%</td>\n",
       "      <td> 200</td>\n",
       "      <td>  0</td>\n",
       "      <td>  0</td>\n",
       "    </tr>\n",
       "    <tr>\n",
       "      <th>12</th>\n",
       "      <td> 2012</td>\n",
       "      <td>               Brave</td>\n",
       "      <td> 100</td>\n",
       "      <td>  78</td>\n",
       "      <td> 7.2</td>\n",
       "      <td> 69</td>\n",
       "      <td>  66.30</td>\n",
       "      <td>  539.0</td>\n",
       "      <td> 237.3</td>\n",
       "      <td> 243.39</td>\n",
       "      <td> 301.7</td>\n",
       "      <td> 44.03%</td>\n",
       "      <td> 55.97%</td>\n",
       "      <td> 185</td>\n",
       "      <td>  1</td>\n",
       "      <td>  1</td>\n",
       "    </tr>\n",
       "    <tr>\n",
       "      <th>13</th>\n",
       "      <td> 2013</td>\n",
       "      <td> Monsters University</td>\n",
       "      <td> 107</td>\n",
       "      <td>  78</td>\n",
       "      <td> 7.4</td>\n",
       "      <td> 65</td>\n",
       "      <td>  82.43</td>\n",
       "      <td>  743.6</td>\n",
       "      <td> 268.5</td>\n",
       "      <td> 269.59</td>\n",
       "      <td> 475.1</td>\n",
       "      <td> 36.11%</td>\n",
       "      <td> 63.89%</td>\n",
       "      <td> 200</td>\n",
       "      <td>  0</td>\n",
       "      <td>  0</td>\n",
       "    </tr>\n",
       "    <tr>\n",
       "      <th>14</th>\n",
       "      <td> 2015</td>\n",
       "      <td>          Inside Out</td>\n",
       "      <td> 102</td>\n",
       "      <td>  98</td>\n",
       "      <td> 8.8</td>\n",
       "      <td> 93</td>\n",
       "      <td>  90.40</td>\n",
       "      <td>  677.1</td>\n",
       "      <td> 340.5</td>\n",
       "      <td> 340.50</td>\n",
       "      <td> 336.6</td>\n",
       "      <td> 50.29%</td>\n",
       "      <td> 49.71%</td>\n",
       "      <td> 175</td>\n",
       "      <td>NaN</td>\n",
       "      <td>NaN</td>\n",
       "    </tr>\n",
       "  </tbody>\n",
       "</table>\n",
       "</div>"
      ],
      "text/plain": [
       "    Year Released                Movie  Length  RT Score  IMDB Score  \\\n",
       "0            1995            Toy Story      81       100         8.3   \n",
       "1            1998         A Bug's Life      96        92         7.2   \n",
       "2            1999          Toy Story 2      92       100         7.9   \n",
       "3            2001       Monsters, Inc.      90        96         8.1   \n",
       "4            2003         Finding Nemo     104        99         8.2   \n",
       "5            2004      The Incredibles     115        97         8.0   \n",
       "6            2006                 Cars     116        74         7.2   \n",
       "7            2007          Ratatouille     111        96         8.0   \n",
       "8            2008               WALL-E      97        96         8.4   \n",
       "9            2009                   Up      96        98         8.3   \n",
       "10           2010          Toy Story 3     103        99         8.4   \n",
       "11           2011               Cars 2     113        39         6.3   \n",
       "12           2012                Brave     100        78         7.2   \n",
       "13           2013  Monsters University     107        78         7.4   \n",
       "14           2015           Inside Out     102        98         8.8   \n",
       "\n",
       "    Metacritic Score  Opening Weekend  Worldwide Gross  Domestic Gross  \\\n",
       "0                 92            29.14            362.0           191.8   \n",
       "1                 77            33.26            363.4           162.8   \n",
       "2                 88            57.39            485.0           245.9   \n",
       "3                 78            62.58            528.8           255.9   \n",
       "4                 90            70.25            895.6           339.7   \n",
       "5                 90            70.47            631.4           261.4   \n",
       "6                 73            60.12            462.0           244.1   \n",
       "7                 96            47.00            623.7           206.4   \n",
       "8                 94            63.10            521.3           223.8   \n",
       "9                 88            68.11            731.3           293.0   \n",
       "10                92           110.31           1063.2           415.0   \n",
       "11                57           109.00            559.9           191.5   \n",
       "12                69            66.30            539.0           237.3   \n",
       "13                65            82.43            743.6           268.5   \n",
       "14                93            90.40            677.1           340.5   \n",
       "\n",
       "    Adjusted Domestic Gross  International Gross Domestic % International %  \\\n",
       "0                    356.21                170.2     52.98%          47.02%   \n",
       "1                    277.18                200.6     44.80%          55.20%   \n",
       "2                    388.43                239.2     50.70%          49.32%   \n",
       "3                    366.12                272.9     48.39%          51.61%   \n",
       "4                    457.46                555.9     37.93%          62.07%   \n",
       "5                    341.28                370.0     41.40%          58.60%   \n",
       "6                    302.59                217.9     52.84%          47.16%   \n",
       "7                    243.65                417.3     33.09%          66.91%   \n",
       "8                    253.11                297.5     42.93%          57.07%   \n",
       "9                    318.90                438.3     40.07%          59.93%   \n",
       "10                   423.88                648.2     39.03%          60.97%   \n",
       "11                   194.43                368.4     34.20%          65.80%   \n",
       "12                   243.39                301.7     44.03%          55.97%   \n",
       "13                   269.59                475.1     36.11%          63.89%   \n",
       "14                   340.50                336.6     50.29%          49.71%   \n",
       "\n",
       "    Production Budget  Oscars Nominated  Oscars Won  \n",
       "0                  30                 3           0  \n",
       "1                  45                 1           0  \n",
       "2                  90                 1           0  \n",
       "3                 115                 3           1  \n",
       "4                  94                 4           1  \n",
       "5                  92                 4           2  \n",
       "6                  70                 2           0  \n",
       "7                 150                 5           1  \n",
       "8                 180                 6           1  \n",
       "9                 175                 5           2  \n",
       "10                200                 5           2  \n",
       "11                200                 0           0  \n",
       "12                185                 1           1  \n",
       "13                200                 0           0  \n",
       "14                175               NaN         NaN  "
      ]
     },
     "execution_count": 38,
     "metadata": {},
     "output_type": "execute_result"
    }
   ],
   "source": [
    "pixar_movies.head(15)"
   ]
  },
  {
   "cell_type": "code",
   "execution_count": 22,
   "metadata": {
    "collapsed": false
   },
   "outputs": [
    {
     "data": {
      "text/plain": [
       "Year Released                int64\n",
       "Movie                       object\n",
       "Length                       int64\n",
       "RT Score                     int64\n",
       "IMDB Score                 float64\n",
       "Metacritic Score             int64\n",
       "Opening Weekend            float64\n",
       "Worldwide Gross            float64\n",
       "Domestic Gross             float64\n",
       "Adjusted Domestic Gross    float64\n",
       "International Gross        float64\n",
       "Domestic %                  object\n",
       "International %             object\n",
       "Production Budget            int64\n",
       "Oscars Nominated           float64\n",
       "Oscars Won                 float64\n",
       "dtype: object"
      ]
     },
     "execution_count": 22,
     "metadata": {},
     "output_type": "execute_result"
    }
   ],
   "source": [
    "pixar_movies.dtypes"
   ]
  },
  {
   "cell_type": "markdown",
   "metadata": {},
   "source": [
    "# Data cleaning"
   ]
  },
  {
   "cell_type": "code",
   "execution_count": 39,
   "metadata": {
    "collapsed": false,
    "scrolled": true
   },
   "outputs": [],
   "source": [
    "# Use the `str` attribute followed by the string method `rstrip()` to apply the string method \n",
    "# to every value in the column.  Use the `astype()` method to cast the column to the float data type.\n",
    "pixar_movies[\"Domestic %\"] = pixar_movies[\"Domestic %\"].str.rstrip(\"%\").astype(\"float\")\n",
    "pixar_movies[\"International %\"] = pixar_movies[\"International %\"].str.rstrip(\"%\").astype(\"float\")"
   ]
  },
  {
   "cell_type": "code",
   "execution_count": 40,
   "metadata": {
    "collapsed": false,
    "scrolled": true
   },
   "outputs": [],
   "source": [
    "# Multiply the `IMDB Score` column by 10\n",
    "pixar_movies[\"IMDB Score\"] = pixar_movies[\"IMDB Score\"]*10"
   ]
  },
  {
   "cell_type": "code",
   "execution_count": 41,
   "metadata": {
    "collapsed": false,
    "scrolled": true
   },
   "outputs": [],
   "source": [
    "# Create a new DataFrame containing only the first 14 rows.\n",
    "filtered_pixar = pixar_movies.loc[0:13]"
   ]
  },
  {
   "cell_type": "code",
   "execution_count": 44,
   "metadata": {
    "collapsed": true
   },
   "outputs": [],
   "source": [
    "# Set the `Movie` column as the index for the DataFrame.\n",
    "pixar_movies.set_index(\"Movie\", inplace=True)\n",
    "filtered_pixar.set_index(\"Movie\", inplace=True)"
   ]
  },
  {
   "cell_type": "code",
   "execution_count": 45,
   "metadata": {
    "collapsed": false,
    "scrolled": true
   },
   "outputs": [
    {
     "data": {
      "text/html": [
       "<div style=\"max-height:1000px;max-width:1500px;overflow:auto;\">\n",
       "<table border=\"1\" class=\"dataframe\">\n",
       "  <thead>\n",
       "    <tr style=\"text-align: right;\">\n",
       "      <th></th>\n",
       "      <th>Year Released</th>\n",
       "      <th>Length</th>\n",
       "      <th>RT Score</th>\n",
       "      <th>IMDB Score</th>\n",
       "      <th>Metacritic Score</th>\n",
       "      <th>Opening Weekend</th>\n",
       "      <th>Worldwide Gross</th>\n",
       "      <th>Domestic Gross</th>\n",
       "      <th>Adjusted Domestic Gross</th>\n",
       "      <th>International Gross</th>\n",
       "      <th>Domestic %</th>\n",
       "      <th>International %</th>\n",
       "      <th>Production Budget</th>\n",
       "      <th>Oscars Nominated</th>\n",
       "      <th>Oscars Won</th>\n",
       "    </tr>\n",
       "    <tr>\n",
       "      <th>Movie</th>\n",
       "      <th></th>\n",
       "      <th></th>\n",
       "      <th></th>\n",
       "      <th></th>\n",
       "      <th></th>\n",
       "      <th></th>\n",
       "      <th></th>\n",
       "      <th></th>\n",
       "      <th></th>\n",
       "      <th></th>\n",
       "      <th></th>\n",
       "      <th></th>\n",
       "      <th></th>\n",
       "      <th></th>\n",
       "      <th></th>\n",
       "    </tr>\n",
       "  </thead>\n",
       "  <tbody>\n",
       "    <tr>\n",
       "      <th>Toy Story</th>\n",
       "      <td> 1995</td>\n",
       "      <td>  81</td>\n",
       "      <td> 100</td>\n",
       "      <td> 83</td>\n",
       "      <td> 92</td>\n",
       "      <td>  29.14</td>\n",
       "      <td>  362.0</td>\n",
       "      <td> 191.8</td>\n",
       "      <td> 356.21</td>\n",
       "      <td> 170.2</td>\n",
       "      <td> 52.98</td>\n",
       "      <td> 47.02</td>\n",
       "      <td>  30</td>\n",
       "      <td>  3</td>\n",
       "      <td>  0</td>\n",
       "    </tr>\n",
       "    <tr>\n",
       "      <th>A Bug's Life</th>\n",
       "      <td> 1998</td>\n",
       "      <td>  96</td>\n",
       "      <td>  92</td>\n",
       "      <td> 72</td>\n",
       "      <td> 77</td>\n",
       "      <td>  33.26</td>\n",
       "      <td>  363.4</td>\n",
       "      <td> 162.8</td>\n",
       "      <td> 277.18</td>\n",
       "      <td> 200.6</td>\n",
       "      <td> 44.80</td>\n",
       "      <td> 55.20</td>\n",
       "      <td>  45</td>\n",
       "      <td>  1</td>\n",
       "      <td>  0</td>\n",
       "    </tr>\n",
       "    <tr>\n",
       "      <th>Toy Story 2</th>\n",
       "      <td> 1999</td>\n",
       "      <td>  92</td>\n",
       "      <td> 100</td>\n",
       "      <td> 79</td>\n",
       "      <td> 88</td>\n",
       "      <td>  57.39</td>\n",
       "      <td>  485.0</td>\n",
       "      <td> 245.9</td>\n",
       "      <td> 388.43</td>\n",
       "      <td> 239.2</td>\n",
       "      <td> 50.70</td>\n",
       "      <td> 49.32</td>\n",
       "      <td>  90</td>\n",
       "      <td>  1</td>\n",
       "      <td>  0</td>\n",
       "    </tr>\n",
       "    <tr>\n",
       "      <th>Monsters, Inc.</th>\n",
       "      <td> 2001</td>\n",
       "      <td>  90</td>\n",
       "      <td>  96</td>\n",
       "      <td> 81</td>\n",
       "      <td> 78</td>\n",
       "      <td>  62.58</td>\n",
       "      <td>  528.8</td>\n",
       "      <td> 255.9</td>\n",
       "      <td> 366.12</td>\n",
       "      <td> 272.9</td>\n",
       "      <td> 48.39</td>\n",
       "      <td> 51.61</td>\n",
       "      <td> 115</td>\n",
       "      <td>  3</td>\n",
       "      <td>  1</td>\n",
       "    </tr>\n",
       "    <tr>\n",
       "      <th>Finding Nemo</th>\n",
       "      <td> 2003</td>\n",
       "      <td> 104</td>\n",
       "      <td>  99</td>\n",
       "      <td> 82</td>\n",
       "      <td> 90</td>\n",
       "      <td>  70.25</td>\n",
       "      <td>  895.6</td>\n",
       "      <td> 339.7</td>\n",
       "      <td> 457.46</td>\n",
       "      <td> 555.9</td>\n",
       "      <td> 37.93</td>\n",
       "      <td> 62.07</td>\n",
       "      <td>  94</td>\n",
       "      <td>  4</td>\n",
       "      <td>  1</td>\n",
       "    </tr>\n",
       "    <tr>\n",
       "      <th>The Incredibles</th>\n",
       "      <td> 2004</td>\n",
       "      <td> 115</td>\n",
       "      <td>  97</td>\n",
       "      <td> 80</td>\n",
       "      <td> 90</td>\n",
       "      <td>  70.47</td>\n",
       "      <td>  631.4</td>\n",
       "      <td> 261.4</td>\n",
       "      <td> 341.28</td>\n",
       "      <td> 370.0</td>\n",
       "      <td> 41.40</td>\n",
       "      <td> 58.60</td>\n",
       "      <td>  92</td>\n",
       "      <td>  4</td>\n",
       "      <td>  2</td>\n",
       "    </tr>\n",
       "    <tr>\n",
       "      <th>Cars</th>\n",
       "      <td> 2006</td>\n",
       "      <td> 116</td>\n",
       "      <td>  74</td>\n",
       "      <td> 72</td>\n",
       "      <td> 73</td>\n",
       "      <td>  60.12</td>\n",
       "      <td>  462.0</td>\n",
       "      <td> 244.1</td>\n",
       "      <td> 302.59</td>\n",
       "      <td> 217.9</td>\n",
       "      <td> 52.84</td>\n",
       "      <td> 47.16</td>\n",
       "      <td>  70</td>\n",
       "      <td>  2</td>\n",
       "      <td>  0</td>\n",
       "    </tr>\n",
       "    <tr>\n",
       "      <th>Ratatouille</th>\n",
       "      <td> 2007</td>\n",
       "      <td> 111</td>\n",
       "      <td>  96</td>\n",
       "      <td> 80</td>\n",
       "      <td> 96</td>\n",
       "      <td>  47.00</td>\n",
       "      <td>  623.7</td>\n",
       "      <td> 206.4</td>\n",
       "      <td> 243.65</td>\n",
       "      <td> 417.3</td>\n",
       "      <td> 33.09</td>\n",
       "      <td> 66.91</td>\n",
       "      <td> 150</td>\n",
       "      <td>  5</td>\n",
       "      <td>  1</td>\n",
       "    </tr>\n",
       "    <tr>\n",
       "      <th>WALL-E</th>\n",
       "      <td> 2008</td>\n",
       "      <td>  97</td>\n",
       "      <td>  96</td>\n",
       "      <td> 84</td>\n",
       "      <td> 94</td>\n",
       "      <td>  63.10</td>\n",
       "      <td>  521.3</td>\n",
       "      <td> 223.8</td>\n",
       "      <td> 253.11</td>\n",
       "      <td> 297.5</td>\n",
       "      <td> 42.93</td>\n",
       "      <td> 57.07</td>\n",
       "      <td> 180</td>\n",
       "      <td>  6</td>\n",
       "      <td>  1</td>\n",
       "    </tr>\n",
       "    <tr>\n",
       "      <th>Up</th>\n",
       "      <td> 2009</td>\n",
       "      <td>  96</td>\n",
       "      <td>  98</td>\n",
       "      <td> 83</td>\n",
       "      <td> 88</td>\n",
       "      <td>  68.11</td>\n",
       "      <td>  731.3</td>\n",
       "      <td> 293.0</td>\n",
       "      <td> 318.90</td>\n",
       "      <td> 438.3</td>\n",
       "      <td> 40.07</td>\n",
       "      <td> 59.93</td>\n",
       "      <td> 175</td>\n",
       "      <td>  5</td>\n",
       "      <td>  2</td>\n",
       "    </tr>\n",
       "    <tr>\n",
       "      <th>Toy Story 3</th>\n",
       "      <td> 2010</td>\n",
       "      <td> 103</td>\n",
       "      <td>  99</td>\n",
       "      <td> 84</td>\n",
       "      <td> 92</td>\n",
       "      <td> 110.31</td>\n",
       "      <td> 1063.2</td>\n",
       "      <td> 415.0</td>\n",
       "      <td> 423.88</td>\n",
       "      <td> 648.2</td>\n",
       "      <td> 39.03</td>\n",
       "      <td> 60.97</td>\n",
       "      <td> 200</td>\n",
       "      <td>  5</td>\n",
       "      <td>  2</td>\n",
       "    </tr>\n",
       "    <tr>\n",
       "      <th>Cars 2</th>\n",
       "      <td> 2011</td>\n",
       "      <td> 113</td>\n",
       "      <td>  39</td>\n",
       "      <td> 63</td>\n",
       "      <td> 57</td>\n",
       "      <td> 109.00</td>\n",
       "      <td>  559.9</td>\n",
       "      <td> 191.5</td>\n",
       "      <td> 194.43</td>\n",
       "      <td> 368.4</td>\n",
       "      <td> 34.20</td>\n",
       "      <td> 65.80</td>\n",
       "      <td> 200</td>\n",
       "      <td>  0</td>\n",
       "      <td>  0</td>\n",
       "    </tr>\n",
       "    <tr>\n",
       "      <th>Brave</th>\n",
       "      <td> 2012</td>\n",
       "      <td> 100</td>\n",
       "      <td>  78</td>\n",
       "      <td> 72</td>\n",
       "      <td> 69</td>\n",
       "      <td>  66.30</td>\n",
       "      <td>  539.0</td>\n",
       "      <td> 237.3</td>\n",
       "      <td> 243.39</td>\n",
       "      <td> 301.7</td>\n",
       "      <td> 44.03</td>\n",
       "      <td> 55.97</td>\n",
       "      <td> 185</td>\n",
       "      <td>  1</td>\n",
       "      <td>  1</td>\n",
       "    </tr>\n",
       "    <tr>\n",
       "      <th>Monsters University</th>\n",
       "      <td> 2013</td>\n",
       "      <td> 107</td>\n",
       "      <td>  78</td>\n",
       "      <td> 74</td>\n",
       "      <td> 65</td>\n",
       "      <td>  82.43</td>\n",
       "      <td>  743.6</td>\n",
       "      <td> 268.5</td>\n",
       "      <td> 269.59</td>\n",
       "      <td> 475.1</td>\n",
       "      <td> 36.11</td>\n",
       "      <td> 63.89</td>\n",
       "      <td> 200</td>\n",
       "      <td>  0</td>\n",
       "      <td>  0</td>\n",
       "    </tr>\n",
       "    <tr>\n",
       "      <th>Inside Out</th>\n",
       "      <td> 2015</td>\n",
       "      <td> 102</td>\n",
       "      <td>  98</td>\n",
       "      <td> 88</td>\n",
       "      <td> 93</td>\n",
       "      <td>  90.40</td>\n",
       "      <td>  677.1</td>\n",
       "      <td> 340.5</td>\n",
       "      <td> 340.50</td>\n",
       "      <td> 336.6</td>\n",
       "      <td> 50.29</td>\n",
       "      <td> 49.71</td>\n",
       "      <td> 175</td>\n",
       "      <td>NaN</td>\n",
       "      <td>NaN</td>\n",
       "    </tr>\n",
       "  </tbody>\n",
       "</table>\n",
       "</div>"
      ],
      "text/plain": [
       "                     Year Released  Length  RT Score  IMDB Score  \\\n",
       "Movie                                                              \n",
       "Toy Story                     1995      81       100          83   \n",
       "A Bug's Life                  1998      96        92          72   \n",
       "Toy Story 2                   1999      92       100          79   \n",
       "Monsters, Inc.                2001      90        96          81   \n",
       "Finding Nemo                  2003     104        99          82   \n",
       "The Incredibles               2004     115        97          80   \n",
       "Cars                          2006     116        74          72   \n",
       "Ratatouille                   2007     111        96          80   \n",
       "WALL-E                        2008      97        96          84   \n",
       "Up                            2009      96        98          83   \n",
       "Toy Story 3                   2010     103        99          84   \n",
       "Cars 2                        2011     113        39          63   \n",
       "Brave                         2012     100        78          72   \n",
       "Monsters University           2013     107        78          74   \n",
       "Inside Out                    2015     102        98          88   \n",
       "\n",
       "                     Metacritic Score  Opening Weekend  Worldwide Gross  \\\n",
       "Movie                                                                     \n",
       "Toy Story                          92            29.14            362.0   \n",
       "A Bug's Life                       77            33.26            363.4   \n",
       "Toy Story 2                        88            57.39            485.0   \n",
       "Monsters, Inc.                     78            62.58            528.8   \n",
       "Finding Nemo                       90            70.25            895.6   \n",
       "The Incredibles                    90            70.47            631.4   \n",
       "Cars                               73            60.12            462.0   \n",
       "Ratatouille                        96            47.00            623.7   \n",
       "WALL-E                             94            63.10            521.3   \n",
       "Up                                 88            68.11            731.3   \n",
       "Toy Story 3                        92           110.31           1063.2   \n",
       "Cars 2                             57           109.00            559.9   \n",
       "Brave                              69            66.30            539.0   \n",
       "Monsters University                65            82.43            743.6   \n",
       "Inside Out                         93            90.40            677.1   \n",
       "\n",
       "                     Domestic Gross  Adjusted Domestic Gross  \\\n",
       "Movie                                                          \n",
       "Toy Story                     191.8                   356.21   \n",
       "A Bug's Life                  162.8                   277.18   \n",
       "Toy Story 2                   245.9                   388.43   \n",
       "Monsters, Inc.                255.9                   366.12   \n",
       "Finding Nemo                  339.7                   457.46   \n",
       "The Incredibles               261.4                   341.28   \n",
       "Cars                          244.1                   302.59   \n",
       "Ratatouille                   206.4                   243.65   \n",
       "WALL-E                        223.8                   253.11   \n",
       "Up                            293.0                   318.90   \n",
       "Toy Story 3                   415.0                   423.88   \n",
       "Cars 2                        191.5                   194.43   \n",
       "Brave                         237.3                   243.39   \n",
       "Monsters University           268.5                   269.59   \n",
       "Inside Out                    340.5                   340.50   \n",
       "\n",
       "                     International Gross  Domestic %  International %  \\\n",
       "Movie                                                                   \n",
       "Toy Story                          170.2       52.98            47.02   \n",
       "A Bug's Life                       200.6       44.80            55.20   \n",
       "Toy Story 2                        239.2       50.70            49.32   \n",
       "Monsters, Inc.                     272.9       48.39            51.61   \n",
       "Finding Nemo                       555.9       37.93            62.07   \n",
       "The Incredibles                    370.0       41.40            58.60   \n",
       "Cars                               217.9       52.84            47.16   \n",
       "Ratatouille                        417.3       33.09            66.91   \n",
       "WALL-E                             297.5       42.93            57.07   \n",
       "Up                                 438.3       40.07            59.93   \n",
       "Toy Story 3                        648.2       39.03            60.97   \n",
       "Cars 2                             368.4       34.20            65.80   \n",
       "Brave                              301.7       44.03            55.97   \n",
       "Monsters University                475.1       36.11            63.89   \n",
       "Inside Out                         336.6       50.29            49.71   \n",
       "\n",
       "                     Production Budget  Oscars Nominated  Oscars Won  \n",
       "Movie                                                                 \n",
       "Toy Story                           30                 3           0  \n",
       "A Bug's Life                        45                 1           0  \n",
       "Toy Story 2                         90                 1           0  \n",
       "Monsters, Inc.                     115                 3           1  \n",
       "Finding Nemo                        94                 4           1  \n",
       "The Incredibles                     92                 4           2  \n",
       "Cars                                70                 2           0  \n",
       "Ratatouille                        150                 5           1  \n",
       "WALL-E                             180                 6           1  \n",
       "Up                                 175                 5           2  \n",
       "Toy Story 3                        200                 5           2  \n",
       "Cars 2                             200                 0           0  \n",
       "Brave                              185                 1           1  \n",
       "Monsters University                200                 0           0  \n",
       "Inside Out                         175               NaN         NaN  "
      ]
     },
     "execution_count": 45,
     "metadata": {},
     "output_type": "execute_result"
    }
   ],
   "source": [
    "pixar_movies"
   ]
  },
  {
   "cell_type": "markdown",
   "metadata": {},
   "source": [
    "# Data visualization, line plots"
   ]
  },
  {
   "cell_type": "code",
   "execution_count": 59,
   "metadata": {
    "collapsed": false
   },
   "outputs": [
    {
     "data": {
      "text/plain": [
       "<matplotlib.axes._subplots.AxesSubplot at 0x10eca6550>"
      ]
     },
     "execution_count": 59,
     "metadata": {},
     "output_type": "execute_result"
    },
    {
     "data": {
      "image/png": "[encoded data removed]",
      "text/plain": [
       "<matplotlib.figure.Figure at 0x10e908780>"
      ]
     },
     "metadata": {},
     "output_type": "display_data"
    }
   ],
   "source": [
    "critics_reviews = pixar_movies[[\"RT Score\",\"Metacritic Score\",\"IMDB Score\"]]\n",
    "critics_reviews.plot()"
   ]
  },
  {
   "cell_type": "code",
   "execution_count": 60,
   "metadata": {
    "collapsed": false
   },
   "outputs": [
    {
     "data": {
      "text/plain": [
       "<matplotlib.axes._subplots.AxesSubplot at 0x10eb36630>"
      ]
     },
     "execution_count": 60,
     "metadata": {},
     "output_type": "execute_result"
    },
    {
     "data": {
      "image/png": "[encoded data removed]",
      "text/plain": [
       "<matplotlib.figure.Figure at 0x10ed1f198>"
      ]
     },
     "metadata": {},
     "output_type": "display_data"
    }
   ],
   "source": [
    "critics_reviews.plot(figsize=(10,6))"
   ]
  },
  {
   "cell_type": "markdown",
   "metadata": {},
   "source": [
    "# Data visualization, box plot"
   ]
  },
  {
   "cell_type": "code",
   "execution_count": 66,
   "metadata": {
    "collapsed": false
   },
   "outputs": [
    {
     "data": {
      "text/plain": [
       "<matplotlib.axes._subplots.AxesSubplot at 0x10f734828>"
      ]
     },
     "execution_count": 66,
     "metadata": {},
     "output_type": "execute_result"
    },
    {
     "data": {
      "image/png": "[encoded data removed]",
      "text/plain": [
       "<matplotlib.figure.Figure at 0x10f748358>"
      ]
     },
     "metadata": {},
     "output_type": "display_data"
    }
   ],
   "source": [
    "pixar_movies[[\"RT Score\",\"Metacritic Score\",\"IMDB Score\"]].plot(kind=\"box\")"
   ]
  },
  {
   "cell_type": "code",
   "execution_count": 68,
   "metadata": {
    "collapsed": false
   },
   "outputs": [
    {
     "data": {
      "text/plain": [
       "<matplotlib.axes._subplots.AxesSubplot at 0x10f5a7cf8>"
      ]
     },
     "execution_count": 68,
     "metadata": {},
     "output_type": "execute_result"
    },
    {
     "data": {
      "image/png": "[encoded data removed]",
      "text/plain": [
       "<matplotlib.figure.Figure at 0x10f922828>"
      ]
     },
     "metadata": {},
     "output_type": "display_data"
    }
   ],
   "source": [
    "pixar_movies[[\"RT Score\",\"Metacritic Score\",\"IMDB Score\"]].plot(kind=\"box\", figsize=(9,5))"
   ]
  },
  {
   "cell_type": "markdown",
   "metadata": {},
   "source": [
    "# Data visualization, stacked bar plots"
   ]
  },
  {
   "cell_type": "code",
   "execution_count": 96,
   "metadata": {
    "collapsed": false,
    "scrolled": false
   },
   "outputs": [
    {
     "data": {
      "text/plain": [
       "<matplotlib.axes._subplots.AxesSubplot at 0x10e9cd080>"
      ]
     },
     "execution_count": 96,
     "metadata": {},
     "output_type": "execute_result"
    },
    {
     "data": {
      "image/png": "[encoded data removed]",
      "text/plain": [
       "<matplotlib.figure.Figure at 0x10e9c42b0>"
      ]
     },
     "metadata": {},
     "output_type": "display_data"
    }
   ],
   "source": [
    "revenue_proportions = filtered_pixar[[\"Domestic %\", \"International %\"]]\n",
    "revenue_proportions.plot(kind='bar', stacked=True, figsize=(7,6))"
   ]
  },
  {
   "cell_type": "markdown",
   "metadata": {},
   "source": [
    "# Next steps"
   ]
  },
  {
   "cell_type": "code",
   "execution_count": 65,
   "metadata": {
    "collapsed": false,
    "scrolled": false
   },
   "outputs": [
    {
     "data": {
      "text/plain": [
       "<matplotlib.axes._subplots.AxesSubplot at 0x10f26c400>"
      ]
     },
     "execution_count": 65,
     "metadata": {},
     "output_type": "execute_result"
    },
    {
     "data": {
      "image/png": "[encoded data removed]",
      "text/plain": [
       "<matplotlib.figure.Figure at 0x10f56d0b8>"
      ]
     },
     "metadata": {},
     "output_type": "display_data"
    }
   ],
   "source": [
    "# Grouped bar plot for oscar nominations / oscars won\n",
    "filtered_pixar[[\"Oscars Nominated\",\"Oscars Won\"]].plot(kind='bar', figsize=(10,6))"
   ]
  }
 ],
 "metadata": {
  "kernelspec": {
   "display_name": "Python 3",
   "language": "python",
   "name": "python3"
  },
  "language_info": {
   "codemirror_mode": {
    "name": "ipython",
    "version": 3
   },
   "file_extension": ".py",
   "mimetype": "text/x-python",
   "name": "python",
   "nbconvert_exporter": "python",
   "pygments_lexer": "ipython3",
   "version": "3.4.3"
  }
 },
 "nbformat": 4,
 "nbformat_minor": 0
}
